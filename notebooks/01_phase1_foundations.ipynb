{"cells": [], "metadata": {"kernelspec": {"display_name": "Contract Analysis (Python 3.11)", "language": "python", "name": "contract-analysis"}}, "nbformat": 4, "nbformat_minor": 4}
